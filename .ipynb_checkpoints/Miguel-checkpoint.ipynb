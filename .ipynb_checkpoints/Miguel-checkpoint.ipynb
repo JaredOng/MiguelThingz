{
 "cells": [
  {
   "cell_type": "code",
   "execution_count": 8,
   "id": "74842d8d",
   "metadata": {},
   "outputs": [
    {
     "name": "stdout",
     "output_type": "stream",
     "text": [
      "Total_Profit_UpgradeWasher0Dryer0_BuyWasher0Dryer0_Profit4490\n",
      "Total_Profit_UpgradeWasher0Dryer0_BuyWasher0Dryer1_Profit160\n",
      "Total_Profit_UpgradeWasher0Dryer0_BuyWasher0Dryer2_Profit-2900\n",
      "Total_Profit_UpgradeWasher0Dryer0_BuyWasher0Dryer3_Profit-6840\n",
      "Total_Profit_UpgradeWasher0Dryer1_BuyWasher0Dryer0_Profit1220\n",
      "Total_Profit_UpgradeWasher0Dryer1_BuyWasher0Dryer1_Profit-1840\n",
      "Total_Profit_UpgradeWasher0Dryer1_BuyWasher0Dryer2_Profit-4840\n",
      "Total_Profit_UpgradeWasher0Dryer1_BuyWasher0Dryer3_Profit-7840\n",
      "Total_Profit_UpgradeWasher0Dryer2_BuyWasher0Dryer0_Profit160\n",
      "Total_Profit_UpgradeWasher0Dryer2_BuyWasher0Dryer1_Profit-2840\n",
      "Total_Profit_UpgradeWasher0Dryer2_BuyWasher0Dryer2_Profit-5840\n",
      "Total_Profit_UpgradeWasher0Dryer2_BuyWasher0Dryer3_Profit-8840\n",
      "Total_Profit_UpgradeWasher0Dryer3_BuyWasher0Dryer0_Profit-840\n",
      "Total_Profit_UpgradeWasher0Dryer3_BuyWasher0Dryer1_Profit-3840\n",
      "Total_Profit_UpgradeWasher0Dryer3_BuyWasher0Dryer2_Profit-6840\n",
      "Total_Profit_UpgradeWasher0Dryer3_BuyWasher0Dryer3_Profit-9840\n"
     ]
    },
    {
     "name": "stderr",
     "output_type": "stream",
     "text": [
      "C:\\Users\\jared\\AppData\\Local\\Temp\\ipykernel_11772\\3318124861.py:136: PerformanceWarning: DataFrame is highly fragmented.  This is usually the result of calling `frame.insert` many times, which has poor performance.  Consider joining all columns at once using pd.concat(axis=1) instead. To get a de-fragmented frame, use `newframe = frame.copy()`\n",
      "  df.loc[index, Machine_End] = df[Machine_Start][index] + Mins_Machine_Service_Time\n",
      "C:\\Users\\jared\\AppData\\Local\\Temp\\ipykernel_11772\\3318124861.py:138: PerformanceWarning: DataFrame is highly fragmented.  This is usually the result of calling `frame.insert` many times, which has poor performance.  Consider joining all columns at once using pd.concat(axis=1) instead. To get a de-fragmented frame, use `newframe = frame.copy()`\n",
      "  df.loc[index, Employee_End] = df[Employee_Start][index] + Mins_Employee_Loads_Machine_Time\n"
     ]
    },
    {
     "name": "stdout",
     "output_type": "stream",
     "text": [
      "Total_Profit_UpgradeWasher0Dryer0_BuyWasher1Dryer0_Profit300\n"
     ]
    },
    {
     "name": "stderr",
     "output_type": "stream",
     "text": [
      "C:\\Users\\jared\\AppData\\Local\\Temp\\ipykernel_11772\\1433182357.py:85: PerformanceWarning: DataFrame is highly fragmented.  This is usually the result of calling `frame.insert` many times, which has poor performance.  Consider joining all columns at once using pd.concat(axis=1) instead. To get a de-fragmented frame, use `newframe = frame.copy()`\n",
      "  df.loc[:, \"Total_Profit_UpgradeWasher\" + str(Washer_Upgrade) + \"Dryer\" + str(Dryer_Upgrade) + \"_BuyWasher\" + str(Washer_Buy) + \"Dryer\" + str(Dryer_Buy)] = Total_Profit\n"
     ]
    },
    {
     "name": "stdout",
     "output_type": "stream",
     "text": [
      "Total_Profit_UpgradeWasher0Dryer0_BuyWasher1Dryer1_Profit-2980\n",
      "Total_Profit_UpgradeWasher0Dryer0_BuyWasher1Dryer2_Profit-5980\n",
      "Total_Profit_UpgradeWasher0Dryer0_BuyWasher1Dryer3_Profit-8980\n",
      "Total_Profit_UpgradeWasher0Dryer1_BuyWasher1Dryer0_Profit-980\n",
      "Total_Profit_UpgradeWasher0Dryer1_BuyWasher1Dryer1_Profit-3980\n",
      "Total_Profit_UpgradeWasher0Dryer1_BuyWasher1Dryer2_Profit-6980\n",
      "Total_Profit_UpgradeWasher0Dryer1_BuyWasher1Dryer3_Profit-9980\n",
      "Total_Profit_UpgradeWasher0Dryer2_BuyWasher1Dryer0_Profit-1980\n",
      "Total_Profit_UpgradeWasher0Dryer2_BuyWasher1Dryer1_Profit-4980\n",
      "Total_Profit_UpgradeWasher0Dryer2_BuyWasher1Dryer2_Profit-7980\n",
      "Total_Profit_UpgradeWasher0Dryer2_BuyWasher1Dryer3_Profit-10980\n",
      "Total_Profit_UpgradeWasher0Dryer3_BuyWasher1Dryer0_Profit-2980\n",
      "Total_Profit_UpgradeWasher0Dryer3_BuyWasher1Dryer1_Profit-5980\n",
      "Total_Profit_UpgradeWasher0Dryer3_BuyWasher1Dryer2_Profit-8980\n",
      "Total_Profit_UpgradeWasher0Dryer3_BuyWasher1Dryer3_Profit-11980\n"
     ]
    },
    {
     "name": "stderr",
     "output_type": "stream",
     "text": [
      "C:\\Users\\jared\\AppData\\Local\\Temp\\ipykernel_11772\\3318124861.py:136: PerformanceWarning: DataFrame is highly fragmented.  This is usually the result of calling `frame.insert` many times, which has poor performance.  Consider joining all columns at once using pd.concat(axis=1) instead. To get a de-fragmented frame, use `newframe = frame.copy()`\n",
      "  df.loc[index, Machine_End] = df[Machine_Start][index] + Mins_Machine_Service_Time\n",
      "C:\\Users\\jared\\AppData\\Local\\Temp\\ipykernel_11772\\3318124861.py:138: PerformanceWarning: DataFrame is highly fragmented.  This is usually the result of calling `frame.insert` many times, which has poor performance.  Consider joining all columns at once using pd.concat(axis=1) instead. To get a de-fragmented frame, use `newframe = frame.copy()`\n",
      "  df.loc[index, Employee_End] = df[Employee_Start][index] + Mins_Employee_Loads_Machine_Time\n"
     ]
    },
    {
     "name": "stdout",
     "output_type": "stream",
     "text": [
      "Total_Profit_UpgradeWasher0Dryer0_BuyWasher2Dryer0_Profit-2720\n"
     ]
    },
    {
     "name": "stderr",
     "output_type": "stream",
     "text": [
      "C:\\Users\\jared\\AppData\\Local\\Temp\\ipykernel_11772\\1433182357.py:85: PerformanceWarning: DataFrame is highly fragmented.  This is usually the result of calling `frame.insert` many times, which has poor performance.  Consider joining all columns at once using pd.concat(axis=1) instead. To get a de-fragmented frame, use `newframe = frame.copy()`\n",
      "  df.loc[:, \"Total_Profit_UpgradeWasher\" + str(Washer_Upgrade) + \"Dryer\" + str(Dryer_Upgrade) + \"_BuyWasher\" + str(Washer_Buy) + \"Dryer\" + str(Dryer_Buy)] = Total_Profit\n"
     ]
    },
    {
     "name": "stdout",
     "output_type": "stream",
     "text": [
      "Total_Profit_UpgradeWasher0Dryer0_BuyWasher2Dryer1_Profit-5980\n",
      "Total_Profit_UpgradeWasher0Dryer0_BuyWasher2Dryer2_Profit-8980\n",
      "Total_Profit_UpgradeWasher0Dryer0_BuyWasher2Dryer3_Profit-11980\n",
      "Total_Profit_UpgradeWasher0Dryer1_BuyWasher2Dryer0_Profit-3980\n",
      "Total_Profit_UpgradeWasher0Dryer1_BuyWasher2Dryer1_Profit-6980\n",
      "Total_Profit_UpgradeWasher0Dryer1_BuyWasher2Dryer2_Profit-9980\n",
      "Total_Profit_UpgradeWasher0Dryer1_BuyWasher2Dryer3_Profit-12980\n",
      "Total_Profit_UpgradeWasher0Dryer2_BuyWasher2Dryer0_Profit-4980\n",
      "Total_Profit_UpgradeWasher0Dryer2_BuyWasher2Dryer1_Profit-7980\n",
      "Total_Profit_UpgradeWasher0Dryer2_BuyWasher2Dryer2_Profit-10980\n",
      "Total_Profit_UpgradeWasher0Dryer2_BuyWasher2Dryer3_Profit-13980\n",
      "Total_Profit_UpgradeWasher0Dryer3_BuyWasher2Dryer0_Profit-5980\n",
      "Total_Profit_UpgradeWasher0Dryer3_BuyWasher2Dryer1_Profit-8980\n",
      "Total_Profit_UpgradeWasher0Dryer3_BuyWasher2Dryer2_Profit-11980\n",
      "Total_Profit_UpgradeWasher0Dryer3_BuyWasher2Dryer3_Profit-14980\n"
     ]
    },
    {
     "name": "stderr",
     "output_type": "stream",
     "text": [
      "C:\\Users\\jared\\AppData\\Local\\Temp\\ipykernel_11772\\3318124861.py:136: PerformanceWarning: DataFrame is highly fragmented.  This is usually the result of calling `frame.insert` many times, which has poor performance.  Consider joining all columns at once using pd.concat(axis=1) instead. To get a de-fragmented frame, use `newframe = frame.copy()`\n",
      "  df.loc[index, Machine_End] = df[Machine_Start][index] + Mins_Machine_Service_Time\n",
      "C:\\Users\\jared\\AppData\\Local\\Temp\\ipykernel_11772\\3318124861.py:138: PerformanceWarning: DataFrame is highly fragmented.  This is usually the result of calling `frame.insert` many times, which has poor performance.  Consider joining all columns at once using pd.concat(axis=1) instead. To get a de-fragmented frame, use `newframe = frame.copy()`\n",
      "  df.loc[index, Employee_End] = df[Employee_Start][index] + Mins_Employee_Loads_Machine_Time\n"
     ]
    },
    {
     "name": "stdout",
     "output_type": "stream",
     "text": [
      "Total_Profit_UpgradeWasher0Dryer0_BuyWasher3Dryer0_Profit-5720\n"
     ]
    },
    {
     "name": "stderr",
     "output_type": "stream",
     "text": [
      "C:\\Users\\jared\\AppData\\Local\\Temp\\ipykernel_11772\\1433182357.py:85: PerformanceWarning: DataFrame is highly fragmented.  This is usually the result of calling `frame.insert` many times, which has poor performance.  Consider joining all columns at once using pd.concat(axis=1) instead. To get a de-fragmented frame, use `newframe = frame.copy()`\n",
      "  df.loc[:, \"Total_Profit_UpgradeWasher\" + str(Washer_Upgrade) + \"Dryer\" + str(Dryer_Upgrade) + \"_BuyWasher\" + str(Washer_Buy) + \"Dryer\" + str(Dryer_Buy)] = Total_Profit\n"
     ]
    },
    {
     "name": "stdout",
     "output_type": "stream",
     "text": [
      "Total_Profit_UpgradeWasher0Dryer0_BuyWasher3Dryer1_Profit-8980\n",
      "Total_Profit_UpgradeWasher0Dryer0_BuyWasher3Dryer2_Profit-11980\n",
      "Total_Profit_UpgradeWasher0Dryer0_BuyWasher3Dryer3_Profit-14980\n",
      "Total_Profit_UpgradeWasher0Dryer1_BuyWasher3Dryer0_Profit-6980\n",
      "Total_Profit_UpgradeWasher0Dryer1_BuyWasher3Dryer1_Profit-9980\n",
      "Total_Profit_UpgradeWasher0Dryer1_BuyWasher3Dryer2_Profit-12980\n",
      "Total_Profit_UpgradeWasher0Dryer1_BuyWasher3Dryer3_Profit-15980\n",
      "Total_Profit_UpgradeWasher0Dryer2_BuyWasher3Dryer0_Profit-7980\n",
      "Total_Profit_UpgradeWasher0Dryer2_BuyWasher3Dryer1_Profit-10980\n",
      "Total_Profit_UpgradeWasher0Dryer2_BuyWasher3Dryer2_Profit-13980\n",
      "Total_Profit_UpgradeWasher0Dryer2_BuyWasher3Dryer3_Profit-16980\n",
      "Total_Profit_UpgradeWasher0Dryer3_BuyWasher3Dryer0_Profit-8980\n",
      "Total_Profit_UpgradeWasher0Dryer3_BuyWasher3Dryer1_Profit-11980\n",
      "Total_Profit_UpgradeWasher0Dryer3_BuyWasher3Dryer2_Profit-14980\n",
      "Total_Profit_UpgradeWasher0Dryer3_BuyWasher3Dryer3_Profit-17980\n"
     ]
    },
    {
     "name": "stderr",
     "output_type": "stream",
     "text": [
      "C:\\Users\\jared\\AppData\\Local\\Temp\\ipykernel_11772\\3318124861.py:136: PerformanceWarning: DataFrame is highly fragmented.  This is usually the result of calling `frame.insert` many times, which has poor performance.  Consider joining all columns at once using pd.concat(axis=1) instead. To get a de-fragmented frame, use `newframe = frame.copy()`\n",
      "  df.loc[index, Machine_End] = df[Machine_Start][index] + Mins_Machine_Service_Time\n",
      "C:\\Users\\jared\\AppData\\Local\\Temp\\ipykernel_11772\\3318124861.py:138: PerformanceWarning: DataFrame is highly fragmented.  This is usually the result of calling `frame.insert` many times, which has poor performance.  Consider joining all columns at once using pd.concat(axis=1) instead. To get a de-fragmented frame, use `newframe = frame.copy()`\n",
      "  df.loc[index, Employee_End] = df[Employee_Start][index] + Mins_Employee_Loads_Machine_Time\n"
     ]
    },
    {
     "name": "stdout",
     "output_type": "stream",
     "text": [
      "Total_Profit_UpgradeWasher1Dryer0_BuyWasher0Dryer0_Profit2300\n"
     ]
    },
    {
     "name": "stderr",
     "output_type": "stream",
     "text": [
      "C:\\Users\\jared\\AppData\\Local\\Temp\\ipykernel_11772\\1433182357.py:85: PerformanceWarning: DataFrame is highly fragmented.  This is usually the result of calling `frame.insert` many times, which has poor performance.  Consider joining all columns at once using pd.concat(axis=1) instead. To get a de-fragmented frame, use `newframe = frame.copy()`\n",
      "  df.loc[:, \"Total_Profit_UpgradeWasher\" + str(Washer_Upgrade) + \"Dryer\" + str(Dryer_Upgrade) + \"_BuyWasher\" + str(Washer_Buy) + \"Dryer\" + str(Dryer_Buy)] = Total_Profit\n"
     ]
    },
    {
     "name": "stdout",
     "output_type": "stream",
     "text": [
      "Total_Profit_UpgradeWasher1Dryer0_BuyWasher0Dryer1_Profit-980\n",
      "Total_Profit_UpgradeWasher1Dryer0_BuyWasher0Dryer2_Profit-3980\n",
      "Total_Profit_UpgradeWasher1Dryer0_BuyWasher0Dryer3_Profit-6980\n",
      "Total_Profit_UpgradeWasher1Dryer1_BuyWasher0Dryer0_Profit1020\n",
      "Total_Profit_UpgradeWasher1Dryer1_BuyWasher0Dryer1_Profit-1980\n",
      "Total_Profit_UpgradeWasher1Dryer1_BuyWasher0Dryer2_Profit-4980\n",
      "Total_Profit_UpgradeWasher1Dryer1_BuyWasher0Dryer3_Profit-7980\n",
      "Total_Profit_UpgradeWasher1Dryer2_BuyWasher0Dryer0_Profit20\n",
      "Total_Profit_UpgradeWasher1Dryer2_BuyWasher0Dryer1_Profit-2980\n",
      "Total_Profit_UpgradeWasher1Dryer2_BuyWasher0Dryer2_Profit-5980\n",
      "Total_Profit_UpgradeWasher1Dryer2_BuyWasher0Dryer3_Profit-8980\n",
      "Total_Profit_UpgradeWasher1Dryer3_BuyWasher0Dryer0_Profit-980\n",
      "Total_Profit_UpgradeWasher1Dryer3_BuyWasher0Dryer1_Profit-3980\n",
      "Total_Profit_UpgradeWasher1Dryer3_BuyWasher0Dryer2_Profit-6980\n",
      "Total_Profit_UpgradeWasher1Dryer3_BuyWasher0Dryer3_Profit-9980\n"
     ]
    },
    {
     "name": "stderr",
     "output_type": "stream",
     "text": [
      "C:\\Users\\jared\\AppData\\Local\\Temp\\ipykernel_11772\\3318124861.py:136: PerformanceWarning: DataFrame is highly fragmented.  This is usually the result of calling `frame.insert` many times, which has poor performance.  Consider joining all columns at once using pd.concat(axis=1) instead. To get a de-fragmented frame, use `newframe = frame.copy()`\n",
      "  df.loc[index, Machine_End] = df[Machine_Start][index] + Mins_Machine_Service_Time\n",
      "C:\\Users\\jared\\AppData\\Local\\Temp\\ipykernel_11772\\3318124861.py:138: PerformanceWarning: DataFrame is highly fragmented.  This is usually the result of calling `frame.insert` many times, which has poor performance.  Consider joining all columns at once using pd.concat(axis=1) instead. To get a de-fragmented frame, use `newframe = frame.copy()`\n",
      "  df.loc[index, Employee_End] = df[Employee_Start][index] + Mins_Employee_Loads_Machine_Time\n"
     ]
    },
    {
     "name": "stdout",
     "output_type": "stream",
     "text": [
      "Total_Profit_UpgradeWasher1Dryer0_BuyWasher1Dryer0_Profit-700\n"
     ]
    },
    {
     "name": "stderr",
     "output_type": "stream",
     "text": [
      "C:\\Users\\jared\\AppData\\Local\\Temp\\ipykernel_11772\\1433182357.py:85: PerformanceWarning: DataFrame is highly fragmented.  This is usually the result of calling `frame.insert` many times, which has poor performance.  Consider joining all columns at once using pd.concat(axis=1) instead. To get a de-fragmented frame, use `newframe = frame.copy()`\n",
      "  df.loc[:, \"Total_Profit_UpgradeWasher\" + str(Washer_Upgrade) + \"Dryer\" + str(Dryer_Upgrade) + \"_BuyWasher\" + str(Washer_Buy) + \"Dryer\" + str(Dryer_Buy)] = Total_Profit\n"
     ]
    },
    {
     "name": "stdout",
     "output_type": "stream",
     "text": [
      "Total_Profit_UpgradeWasher1Dryer0_BuyWasher1Dryer1_Profit-3980\n",
      "Total_Profit_UpgradeWasher1Dryer0_BuyWasher1Dryer2_Profit-6980\n",
      "Total_Profit_UpgradeWasher1Dryer0_BuyWasher1Dryer3_Profit-9980\n",
      "Total_Profit_UpgradeWasher1Dryer1_BuyWasher1Dryer0_Profit-1980\n",
      "Total_Profit_UpgradeWasher1Dryer1_BuyWasher1Dryer1_Profit-4980\n",
      "Total_Profit_UpgradeWasher1Dryer1_BuyWasher1Dryer2_Profit-7980\n",
      "Total_Profit_UpgradeWasher1Dryer1_BuyWasher1Dryer3_Profit-10980\n",
      "Total_Profit_UpgradeWasher1Dryer2_BuyWasher1Dryer0_Profit-2980\n",
      "Total_Profit_UpgradeWasher1Dryer2_BuyWasher1Dryer1_Profit-5980\n",
      "Total_Profit_UpgradeWasher1Dryer2_BuyWasher1Dryer2_Profit-8980\n",
      "Total_Profit_UpgradeWasher1Dryer2_BuyWasher1Dryer3_Profit-11980\n",
      "Total_Profit_UpgradeWasher1Dryer3_BuyWasher1Dryer0_Profit-3980\n",
      "Total_Profit_UpgradeWasher1Dryer3_BuyWasher1Dryer1_Profit-6980\n",
      "Total_Profit_UpgradeWasher1Dryer3_BuyWasher1Dryer2_Profit-9980\n",
      "Total_Profit_UpgradeWasher1Dryer3_BuyWasher1Dryer3_Profit-12980\n"
     ]
    },
    {
     "name": "stderr",
     "output_type": "stream",
     "text": [
      "C:\\Users\\jared\\AppData\\Local\\Temp\\ipykernel_11772\\3318124861.py:136: PerformanceWarning: DataFrame is highly fragmented.  This is usually the result of calling `frame.insert` many times, which has poor performance.  Consider joining all columns at once using pd.concat(axis=1) instead. To get a de-fragmented frame, use `newframe = frame.copy()`\n",
      "  df.loc[index, Machine_End] = df[Machine_Start][index] + Mins_Machine_Service_Time\n",
      "C:\\Users\\jared\\AppData\\Local\\Temp\\ipykernel_11772\\3318124861.py:138: PerformanceWarning: DataFrame is highly fragmented.  This is usually the result of calling `frame.insert` many times, which has poor performance.  Consider joining all columns at once using pd.concat(axis=1) instead. To get a de-fragmented frame, use `newframe = frame.copy()`\n",
      "  df.loc[index, Employee_End] = df[Employee_Start][index] + Mins_Employee_Loads_Machine_Time\n"
     ]
    },
    {
     "name": "stdout",
     "output_type": "stream",
     "text": [
      "Total_Profit_UpgradeWasher1Dryer0_BuyWasher2Dryer0_Profit-3700\n"
     ]
    },
    {
     "name": "stderr",
     "output_type": "stream",
     "text": [
      "C:\\Users\\jared\\AppData\\Local\\Temp\\ipykernel_11772\\1433182357.py:85: PerformanceWarning: DataFrame is highly fragmented.  This is usually the result of calling `frame.insert` many times, which has poor performance.  Consider joining all columns at once using pd.concat(axis=1) instead. To get a de-fragmented frame, use `newframe = frame.copy()`\n",
      "  df.loc[:, \"Total_Profit_UpgradeWasher\" + str(Washer_Upgrade) + \"Dryer\" + str(Dryer_Upgrade) + \"_BuyWasher\" + str(Washer_Buy) + \"Dryer\" + str(Dryer_Buy)] = Total_Profit\n"
     ]
    },
    {
     "name": "stdout",
     "output_type": "stream",
     "text": [
      "Total_Profit_UpgradeWasher1Dryer0_BuyWasher2Dryer1_Profit-6980\n",
      "Total_Profit_UpgradeWasher1Dryer0_BuyWasher2Dryer2_Profit-9980\n",
      "Total_Profit_UpgradeWasher1Dryer0_BuyWasher2Dryer3_Profit-12980\n",
      "Total_Profit_UpgradeWasher1Dryer1_BuyWasher2Dryer0_Profit-4980\n",
      "Total_Profit_UpgradeWasher1Dryer1_BuyWasher2Dryer1_Profit-7980\n",
      "Total_Profit_UpgradeWasher1Dryer1_BuyWasher2Dryer2_Profit-10980\n",
      "Total_Profit_UpgradeWasher1Dryer1_BuyWasher2Dryer3_Profit-13980\n",
      "Total_Profit_UpgradeWasher1Dryer2_BuyWasher2Dryer0_Profit-5980\n",
      "Total_Profit_UpgradeWasher1Dryer2_BuyWasher2Dryer1_Profit-8980\n",
      "Total_Profit_UpgradeWasher1Dryer2_BuyWasher2Dryer2_Profit-11980\n",
      "Total_Profit_UpgradeWasher1Dryer2_BuyWasher2Dryer3_Profit-14980\n",
      "Total_Profit_UpgradeWasher1Dryer3_BuyWasher2Dryer0_Profit-6980\n",
      "Total_Profit_UpgradeWasher1Dryer3_BuyWasher2Dryer1_Profit-9980\n",
      "Total_Profit_UpgradeWasher1Dryer3_BuyWasher2Dryer2_Profit-12980\n",
      "Total_Profit_UpgradeWasher1Dryer3_BuyWasher2Dryer3_Profit-15980\n"
     ]
    },
    {
     "name": "stderr",
     "output_type": "stream",
     "text": [
      "C:\\Users\\jared\\AppData\\Local\\Temp\\ipykernel_11772\\3318124861.py:136: PerformanceWarning: DataFrame is highly fragmented.  This is usually the result of calling `frame.insert` many times, which has poor performance.  Consider joining all columns at once using pd.concat(axis=1) instead. To get a de-fragmented frame, use `newframe = frame.copy()`\n",
      "  df.loc[index, Machine_End] = df[Machine_Start][index] + Mins_Machine_Service_Time\n",
      "C:\\Users\\jared\\AppData\\Local\\Temp\\ipykernel_11772\\3318124861.py:138: PerformanceWarning: DataFrame is highly fragmented.  This is usually the result of calling `frame.insert` many times, which has poor performance.  Consider joining all columns at once using pd.concat(axis=1) instead. To get a de-fragmented frame, use `newframe = frame.copy()`\n",
      "  df.loc[index, Employee_End] = df[Employee_Start][index] + Mins_Employee_Loads_Machine_Time\n"
     ]
    },
    {
     "name": "stdout",
     "output_type": "stream",
     "text": [
      "Total_Profit_UpgradeWasher1Dryer0_BuyWasher3Dryer0_Profit-6700\n"
     ]
    },
    {
     "name": "stderr",
     "output_type": "stream",
     "text": [
      "C:\\Users\\jared\\AppData\\Local\\Temp\\ipykernel_11772\\1433182357.py:85: PerformanceWarning: DataFrame is highly fragmented.  This is usually the result of calling `frame.insert` many times, which has poor performance.  Consider joining all columns at once using pd.concat(axis=1) instead. To get a de-fragmented frame, use `newframe = frame.copy()`\n",
      "  df.loc[:, \"Total_Profit_UpgradeWasher\" + str(Washer_Upgrade) + \"Dryer\" + str(Dryer_Upgrade) + \"_BuyWasher\" + str(Washer_Buy) + \"Dryer\" + str(Dryer_Buy)] = Total_Profit\n"
     ]
    },
    {
     "name": "stdout",
     "output_type": "stream",
     "text": [
      "Total_Profit_UpgradeWasher1Dryer0_BuyWasher3Dryer1_Profit-9980\n",
      "Total_Profit_UpgradeWasher1Dryer0_BuyWasher3Dryer2_Profit-12980\n",
      "Total_Profit_UpgradeWasher1Dryer0_BuyWasher3Dryer3_Profit-15980\n",
      "Total_Profit_UpgradeWasher1Dryer1_BuyWasher3Dryer0_Profit-7980\n",
      "Total_Profit_UpgradeWasher1Dryer1_BuyWasher3Dryer1_Profit-10980\n",
      "Total_Profit_UpgradeWasher1Dryer1_BuyWasher3Dryer2_Profit-13980\n",
      "Total_Profit_UpgradeWasher1Dryer1_BuyWasher3Dryer3_Profit-16980\n",
      "Total_Profit_UpgradeWasher1Dryer2_BuyWasher3Dryer0_Profit-8980\n",
      "Total_Profit_UpgradeWasher1Dryer2_BuyWasher3Dryer1_Profit-11980\n",
      "Total_Profit_UpgradeWasher1Dryer2_BuyWasher3Dryer2_Profit-14980\n",
      "Total_Profit_UpgradeWasher1Dryer2_BuyWasher3Dryer3_Profit-17980\n",
      "Total_Profit_UpgradeWasher1Dryer3_BuyWasher3Dryer0_Profit-9980\n",
      "Total_Profit_UpgradeWasher1Dryer3_BuyWasher3Dryer1_Profit-12980\n",
      "Total_Profit_UpgradeWasher1Dryer3_BuyWasher3Dryer2_Profit-15980\n",
      "Total_Profit_UpgradeWasher1Dryer3_BuyWasher3Dryer3_Profit-18980\n"
     ]
    },
    {
     "name": "stderr",
     "output_type": "stream",
     "text": [
      "C:\\Users\\jared\\AppData\\Local\\Temp\\ipykernel_11772\\3318124861.py:136: PerformanceWarning: DataFrame is highly fragmented.  This is usually the result of calling `frame.insert` many times, which has poor performance.  Consider joining all columns at once using pd.concat(axis=1) instead. To get a de-fragmented frame, use `newframe = frame.copy()`\n",
      "  df.loc[index, Machine_End] = df[Machine_Start][index] + Mins_Machine_Service_Time\n",
      "C:\\Users\\jared\\AppData\\Local\\Temp\\ipykernel_11772\\3318124861.py:138: PerformanceWarning: DataFrame is highly fragmented.  This is usually the result of calling `frame.insert` many times, which has poor performance.  Consider joining all columns at once using pd.concat(axis=1) instead. To get a de-fragmented frame, use `newframe = frame.copy()`\n",
      "  df.loc[index, Employee_End] = df[Employee_Start][index] + Mins_Employee_Loads_Machine_Time\n"
     ]
    },
    {
     "name": "stdout",
     "output_type": "stream",
     "text": [
      "Total_Profit_UpgradeWasher2Dryer0_BuyWasher0Dryer0_Profit1280\n"
     ]
    },
    {
     "name": "stderr",
     "output_type": "stream",
     "text": [
      "C:\\Users\\jared\\AppData\\Local\\Temp\\ipykernel_11772\\1433182357.py:85: PerformanceWarning: DataFrame is highly fragmented.  This is usually the result of calling `frame.insert` many times, which has poor performance.  Consider joining all columns at once using pd.concat(axis=1) instead. To get a de-fragmented frame, use `newframe = frame.copy()`\n",
      "  df.loc[:, \"Total_Profit_UpgradeWasher\" + str(Washer_Upgrade) + \"Dryer\" + str(Dryer_Upgrade) + \"_BuyWasher\" + str(Washer_Buy) + \"Dryer\" + str(Dryer_Buy)] = Total_Profit\n"
     ]
    },
    {
     "name": "stdout",
     "output_type": "stream",
     "text": [
      "Total_Profit_UpgradeWasher2Dryer0_BuyWasher0Dryer1_Profit-1980\n",
      "Total_Profit_UpgradeWasher2Dryer0_BuyWasher0Dryer2_Profit-4980\n",
      "Total_Profit_UpgradeWasher2Dryer0_BuyWasher0Dryer3_Profit-7980\n",
      "Total_Profit_UpgradeWasher2Dryer1_BuyWasher0Dryer0_Profit20\n",
      "Total_Profit_UpgradeWasher2Dryer1_BuyWasher0Dryer1_Profit-2980\n",
      "Total_Profit_UpgradeWasher2Dryer1_BuyWasher0Dryer2_Profit-5980\n",
      "Total_Profit_UpgradeWasher2Dryer1_BuyWasher0Dryer3_Profit-8980\n",
      "Total_Profit_UpgradeWasher2Dryer2_BuyWasher0Dryer0_Profit-980\n",
      "Total_Profit_UpgradeWasher2Dryer2_BuyWasher0Dryer1_Profit-3980\n",
      "Total_Profit_UpgradeWasher2Dryer2_BuyWasher0Dryer2_Profit-6980\n",
      "Total_Profit_UpgradeWasher2Dryer2_BuyWasher0Dryer3_Profit-9980\n",
      "Total_Profit_UpgradeWasher2Dryer3_BuyWasher0Dryer0_Profit-1980\n",
      "Total_Profit_UpgradeWasher2Dryer3_BuyWasher0Dryer1_Profit-4980\n",
      "Total_Profit_UpgradeWasher2Dryer3_BuyWasher0Dryer2_Profit-7980\n",
      "Total_Profit_UpgradeWasher2Dryer3_BuyWasher0Dryer3_Profit-10980\n"
     ]
    },
    {
     "name": "stderr",
     "output_type": "stream",
     "text": [
      "C:\\Users\\jared\\AppData\\Local\\Temp\\ipykernel_11772\\3318124861.py:136: PerformanceWarning: DataFrame is highly fragmented.  This is usually the result of calling `frame.insert` many times, which has poor performance.  Consider joining all columns at once using pd.concat(axis=1) instead. To get a de-fragmented frame, use `newframe = frame.copy()`\n",
      "  df.loc[index, Machine_End] = df[Machine_Start][index] + Mins_Machine_Service_Time\n",
      "C:\\Users\\jared\\AppData\\Local\\Temp\\ipykernel_11772\\3318124861.py:138: PerformanceWarning: DataFrame is highly fragmented.  This is usually the result of calling `frame.insert` many times, which has poor performance.  Consider joining all columns at once using pd.concat(axis=1) instead. To get a de-fragmented frame, use `newframe = frame.copy()`\n",
      "  df.loc[index, Employee_End] = df[Employee_Start][index] + Mins_Employee_Loads_Machine_Time\n"
     ]
    },
    {
     "name": "stdout",
     "output_type": "stream",
     "text": [
      "Total_Profit_UpgradeWasher2Dryer0_BuyWasher1Dryer0_Profit-1700\n"
     ]
    },
    {
     "name": "stderr",
     "output_type": "stream",
     "text": [
      "C:\\Users\\jared\\AppData\\Local\\Temp\\ipykernel_11772\\1433182357.py:85: PerformanceWarning: DataFrame is highly fragmented.  This is usually the result of calling `frame.insert` many times, which has poor performance.  Consider joining all columns at once using pd.concat(axis=1) instead. To get a de-fragmented frame, use `newframe = frame.copy()`\n",
      "  df.loc[:, \"Total_Profit_UpgradeWasher\" + str(Washer_Upgrade) + \"Dryer\" + str(Dryer_Upgrade) + \"_BuyWasher\" + str(Washer_Buy) + \"Dryer\" + str(Dryer_Buy)] = Total_Profit\n"
     ]
    },
    {
     "name": "stdout",
     "output_type": "stream",
     "text": [
      "Total_Profit_UpgradeWasher2Dryer0_BuyWasher1Dryer1_Profit-4980\n",
      "Total_Profit_UpgradeWasher2Dryer0_BuyWasher1Dryer2_Profit-7980\n",
      "Total_Profit_UpgradeWasher2Dryer0_BuyWasher1Dryer3_Profit-10980\n",
      "Total_Profit_UpgradeWasher2Dryer1_BuyWasher1Dryer0_Profit-2980\n",
      "Total_Profit_UpgradeWasher2Dryer1_BuyWasher1Dryer1_Profit-5980\n",
      "Total_Profit_UpgradeWasher2Dryer1_BuyWasher1Dryer2_Profit-8980\n",
      "Total_Profit_UpgradeWasher2Dryer1_BuyWasher1Dryer3_Profit-11980\n",
      "Total_Profit_UpgradeWasher2Dryer2_BuyWasher1Dryer0_Profit-3980\n",
      "Total_Profit_UpgradeWasher2Dryer2_BuyWasher1Dryer1_Profit-6980\n",
      "Total_Profit_UpgradeWasher2Dryer2_BuyWasher1Dryer2_Profit-9980\n",
      "Total_Profit_UpgradeWasher2Dryer2_BuyWasher1Dryer3_Profit-12980\n",
      "Total_Profit_UpgradeWasher2Dryer3_BuyWasher1Dryer0_Profit-4980\n",
      "Total_Profit_UpgradeWasher2Dryer3_BuyWasher1Dryer1_Profit-7980\n",
      "Total_Profit_UpgradeWasher2Dryer3_BuyWasher1Dryer2_Profit-10980\n",
      "Total_Profit_UpgradeWasher2Dryer3_BuyWasher1Dryer3_Profit-13980\n"
     ]
    },
    {
     "name": "stderr",
     "output_type": "stream",
     "text": [
      "C:\\Users\\jared\\AppData\\Local\\Temp\\ipykernel_11772\\3318124861.py:136: PerformanceWarning: DataFrame is highly fragmented.  This is usually the result of calling `frame.insert` many times, which has poor performance.  Consider joining all columns at once using pd.concat(axis=1) instead. To get a de-fragmented frame, use `newframe = frame.copy()`\n",
      "  df.loc[index, Machine_End] = df[Machine_Start][index] + Mins_Machine_Service_Time\n",
      "C:\\Users\\jared\\AppData\\Local\\Temp\\ipykernel_11772\\3318124861.py:138: PerformanceWarning: DataFrame is highly fragmented.  This is usually the result of calling `frame.insert` many times, which has poor performance.  Consider joining all columns at once using pd.concat(axis=1) instead. To get a de-fragmented frame, use `newframe = frame.copy()`\n",
      "  df.loc[index, Employee_End] = df[Employee_Start][index] + Mins_Employee_Loads_Machine_Time\n"
     ]
    },
    {
     "name": "stdout",
     "output_type": "stream",
     "text": [
      "Total_Profit_UpgradeWasher2Dryer0_BuyWasher2Dryer0_Profit-4700\n"
     ]
    },
    {
     "name": "stderr",
     "output_type": "stream",
     "text": [
      "C:\\Users\\jared\\AppData\\Local\\Temp\\ipykernel_11772\\1433182357.py:85: PerformanceWarning: DataFrame is highly fragmented.  This is usually the result of calling `frame.insert` many times, which has poor performance.  Consider joining all columns at once using pd.concat(axis=1) instead. To get a de-fragmented frame, use `newframe = frame.copy()`\n",
      "  df.loc[:, \"Total_Profit_UpgradeWasher\" + str(Washer_Upgrade) + \"Dryer\" + str(Dryer_Upgrade) + \"_BuyWasher\" + str(Washer_Buy) + \"Dryer\" + str(Dryer_Buy)] = Total_Profit\n"
     ]
    },
    {
     "name": "stdout",
     "output_type": "stream",
     "text": [
      "Total_Profit_UpgradeWasher2Dryer0_BuyWasher2Dryer1_Profit-7980\n",
      "Total_Profit_UpgradeWasher2Dryer0_BuyWasher2Dryer2_Profit-10980\n",
      "Total_Profit_UpgradeWasher2Dryer0_BuyWasher2Dryer3_Profit-13980\n",
      "Total_Profit_UpgradeWasher2Dryer1_BuyWasher2Dryer0_Profit-5980\n",
      "Total_Profit_UpgradeWasher2Dryer1_BuyWasher2Dryer1_Profit-8980\n",
      "Total_Profit_UpgradeWasher2Dryer1_BuyWasher2Dryer2_Profit-11980\n",
      "Total_Profit_UpgradeWasher2Dryer1_BuyWasher2Dryer3_Profit-14980\n",
      "Total_Profit_UpgradeWasher2Dryer2_BuyWasher2Dryer0_Profit-6980\n",
      "Total_Profit_UpgradeWasher2Dryer2_BuyWasher2Dryer1_Profit-9980\n",
      "Total_Profit_UpgradeWasher2Dryer2_BuyWasher2Dryer2_Profit-12980\n",
      "Total_Profit_UpgradeWasher2Dryer2_BuyWasher2Dryer3_Profit-15980\n",
      "Total_Profit_UpgradeWasher2Dryer3_BuyWasher2Dryer0_Profit-7980\n",
      "Total_Profit_UpgradeWasher2Dryer3_BuyWasher2Dryer1_Profit-10980\n",
      "Total_Profit_UpgradeWasher2Dryer3_BuyWasher2Dryer2_Profit-13980\n",
      "Total_Profit_UpgradeWasher2Dryer3_BuyWasher2Dryer3_Profit-16980\n"
     ]
    },
    {
     "name": "stderr",
     "output_type": "stream",
     "text": [
      "C:\\Users\\jared\\AppData\\Local\\Temp\\ipykernel_11772\\3318124861.py:136: PerformanceWarning: DataFrame is highly fragmented.  This is usually the result of calling `frame.insert` many times, which has poor performance.  Consider joining all columns at once using pd.concat(axis=1) instead. To get a de-fragmented frame, use `newframe = frame.copy()`\n",
      "  df.loc[index, Machine_End] = df[Machine_Start][index] + Mins_Machine_Service_Time\n",
      "C:\\Users\\jared\\AppData\\Local\\Temp\\ipykernel_11772\\3318124861.py:138: PerformanceWarning: DataFrame is highly fragmented.  This is usually the result of calling `frame.insert` many times, which has poor performance.  Consider joining all columns at once using pd.concat(axis=1) instead. To get a de-fragmented frame, use `newframe = frame.copy()`\n",
      "  df.loc[index, Employee_End] = df[Employee_Start][index] + Mins_Employee_Loads_Machine_Time\n"
     ]
    },
    {
     "name": "stdout",
     "output_type": "stream",
     "text": [
      "Total_Profit_UpgradeWasher2Dryer0_BuyWasher3Dryer0_Profit-7700\n"
     ]
    },
    {
     "name": "stderr",
     "output_type": "stream",
     "text": [
      "C:\\Users\\jared\\AppData\\Local\\Temp\\ipykernel_11772\\1433182357.py:85: PerformanceWarning: DataFrame is highly fragmented.  This is usually the result of calling `frame.insert` many times, which has poor performance.  Consider joining all columns at once using pd.concat(axis=1) instead. To get a de-fragmented frame, use `newframe = frame.copy()`\n",
      "  df.loc[:, \"Total_Profit_UpgradeWasher\" + str(Washer_Upgrade) + \"Dryer\" + str(Dryer_Upgrade) + \"_BuyWasher\" + str(Washer_Buy) + \"Dryer\" + str(Dryer_Buy)] = Total_Profit\n"
     ]
    },
    {
     "name": "stdout",
     "output_type": "stream",
     "text": [
      "Total_Profit_UpgradeWasher2Dryer0_BuyWasher3Dryer1_Profit-10980\n",
      "Total_Profit_UpgradeWasher2Dryer0_BuyWasher3Dryer2_Profit-13980\n",
      "Total_Profit_UpgradeWasher2Dryer0_BuyWasher3Dryer3_Profit-16980\n",
      "Total_Profit_UpgradeWasher2Dryer1_BuyWasher3Dryer0_Profit-8980\n",
      "Total_Profit_UpgradeWasher2Dryer1_BuyWasher3Dryer1_Profit-11980\n",
      "Total_Profit_UpgradeWasher2Dryer1_BuyWasher3Dryer2_Profit-14980\n",
      "Total_Profit_UpgradeWasher2Dryer1_BuyWasher3Dryer3_Profit-17980\n",
      "Total_Profit_UpgradeWasher2Dryer2_BuyWasher3Dryer0_Profit-9980\n",
      "Total_Profit_UpgradeWasher2Dryer2_BuyWasher3Dryer1_Profit-12980\n",
      "Total_Profit_UpgradeWasher2Dryer2_BuyWasher3Dryer2_Profit-15980\n",
      "Total_Profit_UpgradeWasher2Dryer2_BuyWasher3Dryer3_Profit-18980\n",
      "Total_Profit_UpgradeWasher2Dryer3_BuyWasher3Dryer0_Profit-10980\n",
      "Total_Profit_UpgradeWasher2Dryer3_BuyWasher3Dryer1_Profit-13980\n",
      "Total_Profit_UpgradeWasher2Dryer3_BuyWasher3Dryer2_Profit-16980\n",
      "Total_Profit_UpgradeWasher2Dryer3_BuyWasher3Dryer3_Profit-19980\n"
     ]
    },
    {
     "name": "stderr",
     "output_type": "stream",
     "text": [
      "C:\\Users\\jared\\AppData\\Local\\Temp\\ipykernel_11772\\3318124861.py:136: PerformanceWarning: DataFrame is highly fragmented.  This is usually the result of calling `frame.insert` many times, which has poor performance.  Consider joining all columns at once using pd.concat(axis=1) instead. To get a de-fragmented frame, use `newframe = frame.copy()`\n",
      "  df.loc[index, Machine_End] = df[Machine_Start][index] + Mins_Machine_Service_Time\n",
      "C:\\Users\\jared\\AppData\\Local\\Temp\\ipykernel_11772\\3318124861.py:138: PerformanceWarning: DataFrame is highly fragmented.  This is usually the result of calling `frame.insert` many times, which has poor performance.  Consider joining all columns at once using pd.concat(axis=1) instead. To get a de-fragmented frame, use `newframe = frame.copy()`\n",
      "  df.loc[index, Employee_End] = df[Employee_Start][index] + Mins_Employee_Loads_Machine_Time\n"
     ]
    },
    {
     "name": "stdout",
     "output_type": "stream",
     "text": [
      "Total_Profit_UpgradeWasher3Dryer0_BuyWasher0Dryer0_Profit300\n"
     ]
    },
    {
     "name": "stderr",
     "output_type": "stream",
     "text": [
      "C:\\Users\\jared\\AppData\\Local\\Temp\\ipykernel_11772\\1433182357.py:85: PerformanceWarning: DataFrame is highly fragmented.  This is usually the result of calling `frame.insert` many times, which has poor performance.  Consider joining all columns at once using pd.concat(axis=1) instead. To get a de-fragmented frame, use `newframe = frame.copy()`\n",
      "  df.loc[:, \"Total_Profit_UpgradeWasher\" + str(Washer_Upgrade) + \"Dryer\" + str(Dryer_Upgrade) + \"_BuyWasher\" + str(Washer_Buy) + \"Dryer\" + str(Dryer_Buy)] = Total_Profit\n"
     ]
    },
    {
     "name": "stdout",
     "output_type": "stream",
     "text": [
      "Total_Profit_UpgradeWasher3Dryer0_BuyWasher0Dryer1_Profit-2980\n",
      "Total_Profit_UpgradeWasher3Dryer0_BuyWasher0Dryer2_Profit-5980\n",
      "Total_Profit_UpgradeWasher3Dryer0_BuyWasher0Dryer3_Profit-8980\n",
      "Total_Profit_UpgradeWasher3Dryer1_BuyWasher0Dryer0_Profit-980\n",
      "Total_Profit_UpgradeWasher3Dryer1_BuyWasher0Dryer1_Profit-3980\n",
      "Total_Profit_UpgradeWasher3Dryer1_BuyWasher0Dryer2_Profit-6980\n",
      "Total_Profit_UpgradeWasher3Dryer1_BuyWasher0Dryer3_Profit-9980\n",
      "Total_Profit_UpgradeWasher3Dryer2_BuyWasher0Dryer0_Profit-1980\n",
      "Total_Profit_UpgradeWasher3Dryer2_BuyWasher0Dryer1_Profit-4980\n",
      "Total_Profit_UpgradeWasher3Dryer2_BuyWasher0Dryer2_Profit-7980\n",
      "Total_Profit_UpgradeWasher3Dryer2_BuyWasher0Dryer3_Profit-10980\n",
      "Total_Profit_UpgradeWasher3Dryer3_BuyWasher0Dryer0_Profit-2980\n",
      "Total_Profit_UpgradeWasher3Dryer3_BuyWasher0Dryer1_Profit-5980\n",
      "Total_Profit_UpgradeWasher3Dryer3_BuyWasher0Dryer2_Profit-8980\n",
      "Total_Profit_UpgradeWasher3Dryer3_BuyWasher0Dryer3_Profit-11980\n"
     ]
    },
    {
     "name": "stderr",
     "output_type": "stream",
     "text": [
      "C:\\Users\\jared\\AppData\\Local\\Temp\\ipykernel_11772\\3318124861.py:136: PerformanceWarning: DataFrame is highly fragmented.  This is usually the result of calling `frame.insert` many times, which has poor performance.  Consider joining all columns at once using pd.concat(axis=1) instead. To get a de-fragmented frame, use `newframe = frame.copy()`\n",
      "  df.loc[index, Machine_End] = df[Machine_Start][index] + Mins_Machine_Service_Time\n",
      "C:\\Users\\jared\\AppData\\Local\\Temp\\ipykernel_11772\\3318124861.py:138: PerformanceWarning: DataFrame is highly fragmented.  This is usually the result of calling `frame.insert` many times, which has poor performance.  Consider joining all columns at once using pd.concat(axis=1) instead. To get a de-fragmented frame, use `newframe = frame.copy()`\n",
      "  df.loc[index, Employee_End] = df[Employee_Start][index] + Mins_Employee_Loads_Machine_Time\n"
     ]
    },
    {
     "name": "stdout",
     "output_type": "stream",
     "text": [
      "Total_Profit_UpgradeWasher3Dryer0_BuyWasher1Dryer0_Profit-2680\n"
     ]
    },
    {
     "name": "stderr",
     "output_type": "stream",
     "text": [
      "C:\\Users\\jared\\AppData\\Local\\Temp\\ipykernel_11772\\1433182357.py:85: PerformanceWarning: DataFrame is highly fragmented.  This is usually the result of calling `frame.insert` many times, which has poor performance.  Consider joining all columns at once using pd.concat(axis=1) instead. To get a de-fragmented frame, use `newframe = frame.copy()`\n",
      "  df.loc[:, \"Total_Profit_UpgradeWasher\" + str(Washer_Upgrade) + \"Dryer\" + str(Dryer_Upgrade) + \"_BuyWasher\" + str(Washer_Buy) + \"Dryer\" + str(Dryer_Buy)] = Total_Profit\n"
     ]
    },
    {
     "name": "stdout",
     "output_type": "stream",
     "text": [
      "Total_Profit_UpgradeWasher3Dryer0_BuyWasher1Dryer1_Profit-5980\n",
      "Total_Profit_UpgradeWasher3Dryer0_BuyWasher1Dryer2_Profit-8980\n",
      "Total_Profit_UpgradeWasher3Dryer0_BuyWasher1Dryer3_Profit-11980\n",
      "Total_Profit_UpgradeWasher3Dryer1_BuyWasher1Dryer0_Profit-3980\n",
      "Total_Profit_UpgradeWasher3Dryer1_BuyWasher1Dryer1_Profit-6980\n",
      "Total_Profit_UpgradeWasher3Dryer1_BuyWasher1Dryer2_Profit-9980\n",
      "Total_Profit_UpgradeWasher3Dryer1_BuyWasher1Dryer3_Profit-12980\n",
      "Total_Profit_UpgradeWasher3Dryer2_BuyWasher1Dryer0_Profit-4980\n",
      "Total_Profit_UpgradeWasher3Dryer2_BuyWasher1Dryer1_Profit-7980\n",
      "Total_Profit_UpgradeWasher3Dryer2_BuyWasher1Dryer2_Profit-10980\n",
      "Total_Profit_UpgradeWasher3Dryer2_BuyWasher1Dryer3_Profit-13980\n",
      "Total_Profit_UpgradeWasher3Dryer3_BuyWasher1Dryer0_Profit-5980\n",
      "Total_Profit_UpgradeWasher3Dryer3_BuyWasher1Dryer1_Profit-8980\n",
      "Total_Profit_UpgradeWasher3Dryer3_BuyWasher1Dryer2_Profit-11980\n",
      "Total_Profit_UpgradeWasher3Dryer3_BuyWasher1Dryer3_Profit-14980\n"
     ]
    },
    {
     "name": "stderr",
     "output_type": "stream",
     "text": [
      "C:\\Users\\jared\\AppData\\Local\\Temp\\ipykernel_11772\\3318124861.py:136: PerformanceWarning: DataFrame is highly fragmented.  This is usually the result of calling `frame.insert` many times, which has poor performance.  Consider joining all columns at once using pd.concat(axis=1) instead. To get a de-fragmented frame, use `newframe = frame.copy()`\n",
      "  df.loc[index, Machine_End] = df[Machine_Start][index] + Mins_Machine_Service_Time\n",
      "C:\\Users\\jared\\AppData\\Local\\Temp\\ipykernel_11772\\3318124861.py:138: PerformanceWarning: DataFrame is highly fragmented.  This is usually the result of calling `frame.insert` many times, which has poor performance.  Consider joining all columns at once using pd.concat(axis=1) instead. To get a de-fragmented frame, use `newframe = frame.copy()`\n",
      "  df.loc[index, Employee_End] = df[Employee_Start][index] + Mins_Employee_Loads_Machine_Time\n"
     ]
    },
    {
     "name": "stdout",
     "output_type": "stream",
     "text": [
      "Total_Profit_UpgradeWasher3Dryer0_BuyWasher2Dryer0_Profit-5680\n"
     ]
    },
    {
     "name": "stderr",
     "output_type": "stream",
     "text": [
      "C:\\Users\\jared\\AppData\\Local\\Temp\\ipykernel_11772\\1433182357.py:85: PerformanceWarning: DataFrame is highly fragmented.  This is usually the result of calling `frame.insert` many times, which has poor performance.  Consider joining all columns at once using pd.concat(axis=1) instead. To get a de-fragmented frame, use `newframe = frame.copy()`\n",
      "  df.loc[:, \"Total_Profit_UpgradeWasher\" + str(Washer_Upgrade) + \"Dryer\" + str(Dryer_Upgrade) + \"_BuyWasher\" + str(Washer_Buy) + \"Dryer\" + str(Dryer_Buy)] = Total_Profit\n"
     ]
    },
    {
     "name": "stdout",
     "output_type": "stream",
     "text": [
      "Total_Profit_UpgradeWasher3Dryer0_BuyWasher2Dryer1_Profit-8980\n",
      "Total_Profit_UpgradeWasher3Dryer0_BuyWasher2Dryer2_Profit-11980\n",
      "Total_Profit_UpgradeWasher3Dryer0_BuyWasher2Dryer3_Profit-14980\n",
      "Total_Profit_UpgradeWasher3Dryer1_BuyWasher2Dryer0_Profit-6980\n",
      "Total_Profit_UpgradeWasher3Dryer1_BuyWasher2Dryer1_Profit-9980\n",
      "Total_Profit_UpgradeWasher3Dryer1_BuyWasher2Dryer2_Profit-12980\n",
      "Total_Profit_UpgradeWasher3Dryer1_BuyWasher2Dryer3_Profit-15980\n",
      "Total_Profit_UpgradeWasher3Dryer2_BuyWasher2Dryer0_Profit-7980\n",
      "Total_Profit_UpgradeWasher3Dryer2_BuyWasher2Dryer1_Profit-10980\n",
      "Total_Profit_UpgradeWasher3Dryer2_BuyWasher2Dryer2_Profit-13980\n",
      "Total_Profit_UpgradeWasher3Dryer2_BuyWasher2Dryer3_Profit-16980\n",
      "Total_Profit_UpgradeWasher3Dryer3_BuyWasher2Dryer0_Profit-8980\n",
      "Total_Profit_UpgradeWasher3Dryer3_BuyWasher2Dryer1_Profit-11980\n",
      "Total_Profit_UpgradeWasher3Dryer3_BuyWasher2Dryer2_Profit-14980\n",
      "Total_Profit_UpgradeWasher3Dryer3_BuyWasher2Dryer3_Profit-17980\n"
     ]
    },
    {
     "name": "stderr",
     "output_type": "stream",
     "text": [
      "C:\\Users\\jared\\AppData\\Local\\Temp\\ipykernel_11772\\3318124861.py:136: PerformanceWarning: DataFrame is highly fragmented.  This is usually the result of calling `frame.insert` many times, which has poor performance.  Consider joining all columns at once using pd.concat(axis=1) instead. To get a de-fragmented frame, use `newframe = frame.copy()`\n",
      "  df.loc[index, Machine_End] = df[Machine_Start][index] + Mins_Machine_Service_Time\n",
      "C:\\Users\\jared\\AppData\\Local\\Temp\\ipykernel_11772\\3318124861.py:138: PerformanceWarning: DataFrame is highly fragmented.  This is usually the result of calling `frame.insert` many times, which has poor performance.  Consider joining all columns at once using pd.concat(axis=1) instead. To get a de-fragmented frame, use `newframe = frame.copy()`\n",
      "  df.loc[index, Employee_End] = df[Employee_Start][index] + Mins_Employee_Loads_Machine_Time\n"
     ]
    },
    {
     "name": "stdout",
     "output_type": "stream",
     "text": [
      "Total_Profit_UpgradeWasher3Dryer0_BuyWasher3Dryer0_Profit-8680\n"
     ]
    },
    {
     "name": "stderr",
     "output_type": "stream",
     "text": [
      "C:\\Users\\jared\\AppData\\Local\\Temp\\ipykernel_11772\\1433182357.py:85: PerformanceWarning: DataFrame is highly fragmented.  This is usually the result of calling `frame.insert` many times, which has poor performance.  Consider joining all columns at once using pd.concat(axis=1) instead. To get a de-fragmented frame, use `newframe = frame.copy()`\n",
      "  df.loc[:, \"Total_Profit_UpgradeWasher\" + str(Washer_Upgrade) + \"Dryer\" + str(Dryer_Upgrade) + \"_BuyWasher\" + str(Washer_Buy) + \"Dryer\" + str(Dryer_Buy)] = Total_Profit\n"
     ]
    },
    {
     "name": "stdout",
     "output_type": "stream",
     "text": [
      "Total_Profit_UpgradeWasher3Dryer0_BuyWasher3Dryer1_Profit-11980\n",
      "Total_Profit_UpgradeWasher3Dryer0_BuyWasher3Dryer2_Profit-14980\n",
      "Total_Profit_UpgradeWasher3Dryer0_BuyWasher3Dryer3_Profit-17980\n",
      "Total_Profit_UpgradeWasher3Dryer1_BuyWasher3Dryer0_Profit-9980\n",
      "Total_Profit_UpgradeWasher3Dryer1_BuyWasher3Dryer1_Profit-12980\n",
      "Total_Profit_UpgradeWasher3Dryer1_BuyWasher3Dryer2_Profit-15980\n",
      "Total_Profit_UpgradeWasher3Dryer1_BuyWasher3Dryer3_Profit-18980\n",
      "Total_Profit_UpgradeWasher3Dryer2_BuyWasher3Dryer0_Profit-10980\n",
      "Total_Profit_UpgradeWasher3Dryer2_BuyWasher3Dryer1_Profit-13980\n",
      "Total_Profit_UpgradeWasher3Dryer2_BuyWasher3Dryer2_Profit-16980\n",
      "Total_Profit_UpgradeWasher3Dryer2_BuyWasher3Dryer3_Profit-19980\n",
      "Total_Profit_UpgradeWasher3Dryer3_BuyWasher3Dryer0_Profit-11980\n",
      "Total_Profit_UpgradeWasher3Dryer3_BuyWasher3Dryer1_Profit-14980\n",
      "Total_Profit_UpgradeWasher3Dryer3_BuyWasher3Dryer2_Profit-17980\n",
      "Total_Profit_UpgradeWasher3Dryer3_BuyWasher3Dryer3_Profit-20980\n"
     ]
    },
    {
     "ename": "NameError",
     "evalue": "name 'Total_Profit' is not defined",
     "output_type": "error",
     "traceback": [
      "\u001b[1;31m---------------------------------------------------------------------------\u001b[0m",
      "\u001b[1;31mNameError\u001b[0m                                 Traceback (most recent call last)",
      "Cell \u001b[1;32mIn[8], line 95\u001b[0m\n\u001b[0;32m     93\u001b[0m             \u001b[38;5;28;01mfor\u001b[39;00m z \u001b[38;5;129;01min\u001b[39;00m \u001b[38;5;28mrange\u001b[39m(\u001b[38;5;241m0\u001b[39m,\u001b[38;5;241m4\u001b[39m):\n\u001b[0;32m     94\u001b[0m                 profit_finder(w, x, y, z)\n\u001b[1;32m---> 95\u001b[0m Total_Profit\n",
      "\u001b[1;31mNameError\u001b[0m: name 'Total_Profit' is not defined"
     ]
    }
   ],
   "source": [
    "#Changeable information\n",
    "Upgrade_cost = 1000 #Need info\n",
    "Buy_new_cost = 2000 #Need info\n",
    "Revenue_per_kilo = 100 #Need info\n",
    "Cost_machine_running = 10 #Need info\n",
    "Lost_demand_profit_per_load = 20\n",
    "Employees = 3 - 1 #minus 1 by default\n",
    "Mins_Weigh_and_Receipt = 2\n",
    "Mins_Load_Washer = 1\n",
    "Mins_Washer = 34\n",
    "Mins_Load_Dryer = 1.5\n",
    "Mins_Dryer = 45\n",
    "Mins_Backet_Transfer = 2\n",
    "Mins_Fold = 7.5\n",
    "Mins_Pack = 3\n",
    "Arrival_Expo_Mins = 16\n",
    "End_Time = 1000 #Need info\n",
    "\n",
    "#Don't Change. \n",
    "Active_Washer = [0]\n",
    "Active_Washer_Time = [0]\n",
    "Active_Washer_Upgraded = [0]\n",
    "Active_Washer_Upgraded_Time = [0]\n",
    "Active_Dryer = [0]\n",
    "Active_Dryer_Time = [0]\n",
    "Active_Dryer_Upgraded = [0]\n",
    "Active_Dryer_Upgraded_Time = [0]\n",
    "Active_Employee = [0]\n",
    "Active_Employee_Time = [0]\n",
    "Starting_Counter = 0\n",
    "Starting_Counter_Washer = 0\n",
    "Starting_Counter_Dryer = 0\n",
    "Machine_End_Temp = {\"Washer\":[0,0,0],\"Dryer\":[0,0,0]}\n",
    "Employee_End_Temp = {\"1\":0, \"3\":0, \"4\":0, \"5\":0}\n",
    "Kilos = [0,0,0]\n",
    "Profit_Table = {}\n",
    "\n",
    "#Starting Code\n",
    "import pandas as pd\n",
    "import numpy as np\n",
    "\n",
    "#Use the functions below:\n",
    "def profit_finder(Washer_Upgrade, Washer_Buy, Dryer_Upgrade, Dryer_Buy):\n",
    "    #Reset Code\n",
    "    global df\n",
    "    global Washers\n",
    "    global Dryers\n",
    "    global Washers_Upgraded\n",
    "    global Dryers_Upgraded\n",
    "    df = pd.read_excel('Delulu_RandomNumbers.xlsx', index_col = None, na_values=['NA']) #READ EXCEL\n",
    "    #Interarrival Time\n",
    "    def Exponential(row):\n",
    "        return -Arrival_Expo_Mins*np.log(1-row['RN Interarrival'])\n",
    "    df['Interarrival Time'] = df.apply(Exponential, axis=1)\n",
    "    #Arrival Time\n",
    "    df['Arrival Time'] = df['Interarrival Time'].cumsum()\n",
    "    #Delete older columns\n",
    "    del df[\"RN Interarrival\"]\n",
    "    del df[\"Interarrival Time\"]\n",
    "    #Set machine amounts\n",
    "    Washers = 6 - Washer_Upgrade\n",
    "    Dryers = 6 - Dryer_Upgrade\n",
    "    Washers_Upgraded = Washer_Upgrade + Washer_Buy\n",
    "    Dryers_Upgraded = Dryer_Upgrade + Dryer_Buy\n",
    "    #Run program\n",
    "    Cruncher1(df)\n",
    "    Cruncher2(df)\n",
    "    #Check total profits\n",
    "    Profits = []\n",
    "    Profits.append(df['2_Profit_1'].sum())\n",
    "    Profits.append(df['2_Profit_2'].sum())\n",
    "    Profits.append(df['2_Profit_3'].sum())\n",
    "    Profits.append(df['6_Profit_1'].sum())\n",
    "    Profits.append(df['6_Profit_2'].sum())\n",
    "    Profits.append(df['6_Profit_3'].sum())\n",
    "    Profits.append(df['7_Profit_1'].sum())\n",
    "    Profits.append(df['7_Profit_2'].sum())\n",
    "    Profits.append(df['7_Profit_3'].sum())\n",
    "    Profits.append(df['8_Profit_1'].sum())\n",
    "    Profits.append(df['8_Profit_2'].sum())\n",
    "    Profits.append(df['8_Profit_3'].sum())\n",
    "    Total_Profit = sum(Profits) - Upgrade_cost * (Washers_Upgraded + Dryers_Upgraded) - Buy_new_cost * (Washer_Buy + Dryer_Buy)\n",
    "    Profit_Table[\"WUpgrade\"+ str(Washer_Upgrade) + \"_DUpgrade\" + str(Dryer_Upgrade) + \"_WBuy\" + str(Washer_Buy) + \"_DBuy\" + str(Dryer_Buy)] = Total_Profit\n",
    "    print(\"Total_Profit_UpgradeWasher\" + str(Washer_Upgrade) + \"Dryer\" + str(Dryer_Upgrade) + \"_BuyWasher\" + str(Washer_Buy) + \"Dryer\" + str(Dryer_Buy) + \"_Profit\" + str(Total_Profit))\n",
    "    df.loc[:, \"Total_Profit_UpgradeWasher\" + str(Washer_Upgrade) + \"Dryer\" + str(Dryer_Upgrade) + \"_BuyWasher\" + str(Washer_Buy) + \"Dryer\" + str(Dryer_Buy)] = Total_Profit\n",
    "    #Save to csv\n",
    "    df.to_csv(\"Test_Sheet_UpgradeWasher\" + str(Washer_Upgrade) + \"Dryer\" + str(Dryer_Upgrade) + \"_BuyWasher\" + str(Washer_Buy) + \"Dryer\" + str(Dryer_Buy) + \".csv\", encoding='utf-8', index=False)\n",
    "    \n",
    "#Run the code\n",
    "for w in range(0, 4):\n",
    "    for x in range(0,4):\n",
    "        for y in range(0, 4):\n",
    "            for z in range(0,4):\n",
    "                profit_finder(w, x, y, z)\n",
    "Total_Profit"
   ]
  },
  {
   "cell_type": "code",
   "execution_count": 1,
   "id": "05daca2d",
   "metadata": {},
   "outputs": [],
   "source": [
    "def Cruncher1(Crunch_Data):\n",
    "    for index, row in Crunch_Data.iterrows(): #print(row['Kilos'], row['Arrival Time'])\n",
    "        #Employee checker\n",
    "        def Employee_Checker(Ideal_Start, Number, Mins_Service_Time):\n",
    "            Employees_Busy = Number + \"_Employees_Busy\"\n",
    "            Employee_Start = Number + \"_Employee_Start\"\n",
    "            Assigned_Employee = Number + \"_Assigned_Employee\"\n",
    "            Employee_End = Number + \"_Employee_End\"\n",
    "            df.loc[index, Employees_Busy] = sum(1 if x >= Ideal_Start else 0 for x in Active_Employee_Time)\n",
    "            if df.loc[index, Employees_Busy] < Employees: #If we have free employees, room for one more\n",
    "                df.loc[index,Employee_Start] = Ideal_Start\n",
    "                global Starting_Counter\n",
    "                if Starting_Counter <= Employees: #Assigning Employees at the start\n",
    "                    Active_Employee.append(Starting_Counter)\n",
    "                    df.loc[index,Assigned_Employee] = Starting_Counter\n",
    "                    Starting_Counter = Starting_Counter + 1\n",
    "                else: #Assigning Employees when there are employees that are free\n",
    "                    Active_Employee.append(Active_Employee[Active_Employee_Time.index(sorted(Active_Employee_Time)[-Employees+1])])\n",
    "                    df.loc[index,Assigned_Employee] = Active_Employee[Active_Employee_Time.index(sorted(Active_Employee_Time)[-Employees+1])]\n",
    "            else: #If we don't have free employees\n",
    "                df.loc[index,Employee_Start] = max(sorted(Active_Employee_Time)[-Employees+1],Ideal_Start)\n",
    "                Active_Employee.append(Active_Employee[Active_Employee_Time.index(sorted(Active_Employee_Time)[-Employees+1])])\n",
    "                df.loc[index,Assigned_Employee] = Active_Employee[Active_Employee_Time.index(sorted(Active_Employee_Time)[-Employees+1])]\n",
    "            df.loc[index, Employee_End] = df[Employee_Start][index] + Mins_Service_Time\n",
    "            Active_Employee_Time.append(df.loc[index, Employee_End])\n",
    "            \n",
    "        #1. Check for employee availability -> Assign clothes to employee to weight, receipt, load washer\n",
    "        Employee_Checker(row['Arrival Time'], \"1\", Mins_Weigh_and_Receipt)\n",
    "        \n",
    "        df['2_Profit_1'] = 0\n",
    "        df['2_Profit_2'] = 0\n",
    "        df['2_Profit_3'] = 0\n",
    "        df['6_Profit_1'] = 0\n",
    "        df['6_Profit_2'] = 0\n",
    "        df['6_Profit_3'] = 0\n",
    "        df['7_Profit_1'] = 0\n",
    "        df['7_Profit_2'] = 0\n",
    "        df['7_Profit_3'] = 0\n",
    "        df['8_Profit_1'] = 0\n",
    "        df['8_Profit_2'] = 0\n",
    "        df['8_Profit_3'] = 0\n",
    "\n",
    "def Cruncher2(Crunch_Data):\n",
    "    for index, row in Crunch_Data.iterrows(): #print(row['Kilos'], row['Arrival Time'])\n",
    "        #Employee checker\n",
    "        def Employee_Checker(Ideal_Start, Number, Mins_Service_Time):\n",
    "            Employees_Busy = Number + \"_Employees_Busy\"\n",
    "            Employee_Start = Number + \"_Employee_Start\"\n",
    "            Assigned_Employee = Number + \"_Assigned_Employee\"\n",
    "            Employee_End = Number + \"_Employee_End\"\n",
    "            df.loc[index, Employees_Busy] = sum(1 if x >= Ideal_Start else 0 for x in Active_Employee_Time)\n",
    "            if df.loc[index, Employees_Busy] < Employees: #If we have free employees, room for one more\n",
    "                df.loc[index,Employee_Start] = Ideal_Start\n",
    "                global Starting_Counter\n",
    "                if Starting_Counter <= Employees: #Assigning Employees at the start\n",
    "                    Active_Employee.append(Starting_Counter)\n",
    "                    df.loc[index,Assigned_Employee] = Starting_Counter\n",
    "                    Starting_Counter = Starting_Counter + 1\n",
    "                else: #Assigning Employees when there are employees that are free\n",
    "                    Active_Employee.append(Active_Employee[Active_Employee_Time.index(sorted(Active_Employee_Time)[-Employees+1])])\n",
    "                    df.loc[index,Assigned_Employee] = Active_Employee[Active_Employee_Time.index(sorted(Active_Employee_Time)[-Employees+1])]\n",
    "            else: #If we don't have free employees\n",
    "                df.loc[index,Employee_Start] = max(sorted(Active_Employee_Time)[-Employees+1],Ideal_Start)\n",
    "                Active_Employee.append(Active_Employee[Active_Employee_Time.index(sorted(Active_Employee_Time)[-Employees+1])])\n",
    "                df.loc[index,Assigned_Employee] = Active_Employee[Active_Employee_Time.index(sorted(Active_Employee_Time)[-Employees+1])]\n",
    "            global Employee_End_Temp\n",
    "            Employee_End_Temp[Number] = df[Employee_Start][index] + Mins_Service_Time\n",
    "            df.loc[index, Employee_End] = df[Employee_Start][index] + Mins_Service_Time\n",
    "            Active_Employee_Time.append(df.loc[index, Employee_End])\n",
    "        #Ideal_Start = row['Arrival Time']\n",
    "        #Employees_Busy = '1_Employees_Busy'\n",
    "        #Employee_Start = '1_Employee_Start'\n",
    "        #Assigned_Employee = '1_Assigned_Employee'\n",
    "        #Employee_End = '1_Employee_End'\n",
    "        #Mins_Service_Time = Mins_Weigh_and_Receipt\n",
    "        \n",
    "        #Washer & Dryer checker\n",
    "        def Machine_Checker(Ideal_Start, Number, Washer_or_Dryer, Total_Kilos):\n",
    "            def Calculator(Machine_Iteration, Normal_or_Upgraded):\n",
    "                Machine_Start = Number + \"_Machine_Start_\" + Machine_Iteration\n",
    "                Assigned_Machine = Number + \"_Assigned_Machine_\" + Machine_Iteration\n",
    "                Machine_Assigned_Employee = Number + \"_Machine_Assigned_Employee_\" + Machine_Iteration\n",
    "                Machine_End = Number + \"_Machine_End_\" + Machine_Iteration\n",
    "                Employee_End = Number + \"_Employee_End_\" + Machine_Iteration\n",
    "                Employee_Start = Number + \"_Employee_Start_\" + Machine_Iteration\n",
    "                Assigned_Employee = Number + \"_Assigned_Employee_\" + Machine_Iteration\n",
    "                Employee_End = Number + \"_Employee_End_\" + Machine_Iteration\n",
    "                Machine_Profit = Number + \"_Profit_\" + Machine_Iteration\n",
    "                if Normal_or_Upgraded == \"Normal\":\n",
    "                    Count_Machines = globals()[Washer_or_Dryer+\"s\"]\n",
    "                    add_on = \"\"\n",
    "                elif Normal_or_Upgraded == \"Upgraded\":\n",
    "                    Count_Machines = globals()[Washer_or_Dryer+\"s_Upgraded\"]\n",
    "                    add_on = \"_Upgraded\"\n",
    "                #Manually replace these to the lines\n",
    "                #globals()['Active_'+Washer_or_Dryer+add_on]\n",
    "                #globals()['Active_'+Washer_or_Dryer+add_on+'_Time']\n",
    "                #CHECKPOINT\n",
    "                if Count_Machines != 0:\n",
    "                    if df.loc[index, Machines_Busy] < Count_Machines and df.loc[index, Employees_Busy] < Employees: #ADD HERE IF we have employee available also\n",
    "                        df.loc[index,Machine_Start] = df.loc[index,Employee_Start] = Ideal_Start\n",
    "                    elif df.loc[index, Machines_Busy] < Count_Machines and df.loc[index, Employees_Busy] >= Employees: #we have machine but no employee \n",
    "                        df.loc[index,Machine_Start] = df.loc[index,Employee_Start] = max(sorted(Active_Employee_Time)[-Employees+1],Ideal_Start)\n",
    "                    elif df.loc[index, Machines_Busy] >= Count_Machines and df.loc[index, Employees_Busy] < Employees: #we have employee but no machine\n",
    "                        df.loc[index,Machine_Start] = df.loc[index,Employee_Start] = max(sorted(globals()['Active_'+Washer_or_Dryer+add_on+'_Time'])[-Count_Machines+1],Ideal_Start)\n",
    "                    else: #if we have no employee and no machine\n",
    "                        df.loc[index,Machine_Start] = df.loc[index,Employee_Start] = max(sorted(globals()['Active_'+Washer_or_Dryer+add_on+'_Time'])[-Count_Machines+1],sorted(Active_Employee_Time)[-Employees+1], Ideal_Start)\n",
    "                    global Starting_Counter\n",
    "                    if Starting_Counter <= Employees: #Assigning Employees at the start\n",
    "                        Active_Employee.append(Starting_Counter)\n",
    "                        df.loc[index,Assigned_Employee] = Starting_Counter\n",
    "                        Starting_Counter = Starting_Counter + 1\n",
    "                    else:\n",
    "                        Active_Employee.append(Active_Employee[Active_Employee_Time.index(sorted(Active_Employee_Time)[-Employees+1])])\n",
    "                        df.loc[index,Assigned_Employee] = Active_Employee[Active_Employee_Time.index(sorted(Active_Employee_Time)[-Employees+1])]\n",
    "\n",
    "                    #Make it different per washer vs dryer\n",
    "                    if Washer_or_Dryer == \"Washer\":\n",
    "                        global Starting_Counter_Washer\n",
    "                        if Starting_Counter_Washer <= Count_Machines: #Assigning Machines at the start\n",
    "                            globals()['Active_'+Washer_or_Dryer+add_on].append(Starting_Counter_Washer)\n",
    "                            df.loc[index,Assigned_Machine] = Starting_Counter_Washer\n",
    "                            Starting_Counter_Washer = Starting_Counter_Washer + 1\n",
    "                        else:\n",
    "                            globals()['Active_'+Washer_or_Dryer+add_on].append(globals()['Active_'+Washer_or_Dryer+add_on][globals()['Active_'+Washer_or_Dryer+add_on+'_Time'].index(sorted(globals()['Active_'+Washer_or_Dryer+add_on+'_Time'])[-Count_Machines+1])])\n",
    "                            df.loc[index,Assigned_Machine] = globals()['Active_'+Washer_or_Dryer+add_on][globals()['Active_'+Washer_or_Dryer+add_on+'_Time'].index(sorted(globals()['Active_'+Washer_or_Dryer+add_on+'_Time'])[-Count_Machines+1])]\n",
    "                    else:\n",
    "                        global Starting_Counter_Dryer\n",
    "                        if Starting_Counter_Dryer <= Count_Machines: #Assigning Machines at the start\n",
    "                            globals()['Active_'+Washer_or_Dryer+add_on].append(Starting_Counter_Dryer)\n",
    "                            df.loc[index,Assigned_Machine] = Starting_Counter_Dryer\n",
    "                            Starting_Counter_Dryer = Starting_Counter_Dryer + 1\n",
    "                        else:\n",
    "                            globals()['Active_'+Washer_or_Dryer+add_on].append(globals()['Active_'+Washer_or_Dryer+add_on][globals()['Active_'+Washer_or_Dryer+add_on+'_Time'].index(sorted(globals()['Active_'+Washer_or_Dryer+add_on+'_Time'])[-Count_Machines+1])])\n",
    "                            df.loc[index,Assigned_Machine] = globals()['Active_'+Washer_or_Dryer+add_on][globals()['Active_'+Washer_or_Dryer+add_on+'_Time'].index(sorted(globals()['Active_'+Washer_or_Dryer+add_on+'_Time'])[-Count_Machines+1])]\n",
    "                    df.loc[index, Machine_End] = df[Machine_Start][index] + Mins_Machine_Service_Time\n",
    "                    globals()['Active_'+Washer_or_Dryer+add_on+'_Time'].append(df.loc[index, Machine_End])\n",
    "                    df.loc[index, Employee_End] = df[Employee_Start][index] + Mins_Employee_Loads_Machine_Time\n",
    "                    Active_Employee_Time.append(df.loc[index, Employee_End])\n",
    "                    global Machine_End_Temp\n",
    "                    Machine_End_Temp[Number][int(Machine_Iteration)-1] = df[Machine_Start][index] + Mins_Machine_Service_Time\n",
    "                    #Money Costs\n",
    "                    if df.loc[index,Machine_Start] < End_Time:\n",
    "                        df.loc[index,Machine_Profit] = Revenue_per_kilo - Cost_machine_running\n",
    "                    else:\n",
    "                        df.loc[index,Machine_Profit] = Lost_demand_profit_per_load\n",
    "            \n",
    "            Count_Machines = globals()[Washer_or_Dryer+\"s\"]\n",
    "            Count_Upgraded_Machines = globals()[Washer_or_Dryer+\"s_Upgraded\"]\n",
    "            Mins_Employee_Loads_Machine_Time = globals()[\"Mins_Load_\"+Washer_or_Dryer]\n",
    "            Mins_Machine_Service_Time = globals()[\"Mins_\"+Washer_or_Dryer]\n",
    "            \n",
    "            #Start of actual code\n",
    "            Machines_Busy = Number + \"_Machines_Busy_\"\n",
    "            Upgraded_Machines_Busy = Number + \"_Upgraded_Machines_Busy_\"\n",
    "            Employees_Busy = Number + \"_Employees_Busy_\"\n",
    "            df.loc[index, Machines_Busy] = sum(1 if x >= Ideal_Start else 0 for x in globals()['Active_'+Washer_or_Dryer+\"_Time\"]) #No. of normal machines busy\n",
    "            df.loc[index, Upgraded_Machines_Busy] = sum(1 if x >= Ideal_Start else 0 for x in globals()['Active_'+Washer_or_Dryer+\"_Upgraded_Time\"]) #No. of upgraded machines busy\n",
    "            df.loc[index, Employees_Busy] = sum(1 if x >= Ideal_Start else 0 for x in Active_Employee_Time)\n",
    "            Num_Machines_Free = Count_Machines - df.loc[index, Machines_Busy]\n",
    "            Num_Upgraded_Machines_Free = Count_Upgraded_Machines - df.loc[index, Upgraded_Machines_Busy]\\\n",
    "            \n",
    "            Next_few_Washer_or_Dryer_Times = ([0] * int(Num_Machines_Free)) + sorted( (f for f in globals()['Active_'+Washer_or_Dryer+\"_Time\"] if Ideal_Start <= int(f)), key=int) + ([9999] * 4)\n",
    "            Next_few_Upgraded_Washer_or_Dryer_Times = ([0] * int(Num_Upgraded_Machines_Free)) +  sorted( (f for f in globals()['Active_'+Washer_or_Dryer+\"_Upgraded_Time\"] if Ideal_Start <= int(f)), key=int) + ([9999] * 4)\n",
    "            #We don't need to take into account if the employees are free or busy since ideal_start is based off employees freedom\n",
    "            if Total_Kilos <= 7: \n",
    "                if Next_few_Washer_or_Dryer_Times[0] <= Next_few_Upgraded_Washer_or_Dryer_Times[0]:\n",
    "                    Calculator(\"1\", \"Normal\")\n",
    "                    Kilos[0] = Total_Kilos\n",
    "                else:\n",
    "                    Calculator(\"1\", \"Upgraded\")\n",
    "                    Kilos[0] = Total_Kilos\n",
    "            elif Total_Kilos <= 11:\n",
    "                if Next_few_Upgraded_Washer_or_Dryer_Times[0] <= Next_few_Washer_or_Dryer_Times[1]:\n",
    "                    Calculator(\"1\", \"Upgraded\")\n",
    "                    Kilos[0] = Total_Kilos\n",
    "                else:\n",
    "                    Calculator(\"1\", \"Normal\")\n",
    "                    Kilos[0] = 7\n",
    "                    Calculator(\"2\", \"Normal\")\n",
    "                    Kilos[1] = Total_Kilos - 7\n",
    "            elif Total_Kilos <= 14:\n",
    "                if Next_few_Washer_or_Dryer_Times[1] <= max(Next_few_Washer_or_Dryer_Times[0], Next_few_Upgraded_Washer_or_Dryer_Times[0]) and Next_few_Washer_or_Dryer_Times[1] <= Next_few_Upgraded_Washer_or_Dryer_Times[1]:\n",
    "                    Calculator(\"1\", \"Normal\")\n",
    "                    Kilos[0] = 7\n",
    "                    Calculator(\"2\", \"Normal\")\n",
    "                    Kilos[1] = Total_Kilos - 7\n",
    "                elif max(Next_few_Washer_or_Dryer_Times[0], Next_few_Upgraded_Washer_or_Dryer_Times[0]) <= Next_few_Upgraded_Washer_or_Dryer_Times[1]:\n",
    "                    Calculator(\"1\", \"Normal\")\n",
    "                    Kilos[0] = 7\n",
    "                    Calculator(\"2\", \"Upgraded\")\n",
    "                    Kilos[1] = Total_Kilos - 7\n",
    "                else:\n",
    "                    Calculator(\"1\", \"Upgraded\")\n",
    "                    Kilos[0] = 11\n",
    "                    Calculator(\"2\", \"Upgraded\")\n",
    "                    Kilos[1] = Total_Kilos - 11\n",
    "            elif Total_Kilos <= 18:\n",
    "                if max(Next_few_Washer_or_Dryer_Times[0], Next_few_Upgraded_Washer_or_Dryer_Times[0]) <= Next_few_Washer_or_Dryer_Times[2] and max(Next_few_Washer_or_Dryer_Times[0], Next_few_Upgraded_Washer_or_Dryer_Times[0]) <= Next_few_Upgraded_Washer_or_Dryer_Times[1]:\n",
    "                    Calculator(\"1\", \"Normal\")\n",
    "                    Kilos[0] = 7\n",
    "                    Calculator(\"2\", \"Upgraded\")\n",
    "                    Kilos[1] = Total_Kilos - 7\n",
    "                elif Next_few_Washer_or_Dryer_Times[2] <= Next_few_Upgraded_Washer_or_Dryer_Times[1]:\n",
    "                    Calculator(\"1\", \"Normal\")\n",
    "                    Kilos[0] = 7\n",
    "                    Calculator(\"2\", \"Normal\")\n",
    "                    Kilos[1] = 7\n",
    "                    Calculator(\"3\", \"Normal\")\n",
    "                    Kilos[2] = Total_Kilos - 14\n",
    "                else:\n",
    "                    Calculator(\"1\", \"Upgraded\")\n",
    "                    Kilos[0] = 11\n",
    "                    Calculator(\"2\", \"Upgraded\")\n",
    "                    Kilos[1] = Total_Kilos - 11\n",
    "            elif Total_Kilos <= 22:\n",
    "                if Next_few_Upgraded_Washer_or_Dryer_Times[1] <= max(Next_few_Washer_or_Dryer_Times[1], Next_few_Upgraded_Washer_or_Dryer_Times[0]) and Next_few_Upgraded_Washer_or_Dryer_Times[1] <= max(Next_few_Washer_or_Dryer_Times[0], Next_few_Upgraded_Washer_or_Dryer_Times[1]):\n",
    "                    Calculator(\"1\", \"Upgraded\")\n",
    "                    Kilos[0] = 11\n",
    "                    Calculator(\"2\", \"Upgraded\")\n",
    "                    Kilos[1] = Total_Kilos - 11\n",
    "                elif max(Next_few_Washer_or_Dryer_Times[1], Next_few_Upgraded_Washer_or_Dryer_Times[0]) <= max(Next_few_Washer_or_Dryer_Times[0], Next_few_Upgraded_Washer_or_Dryer_Times[1]):\n",
    "                    Calculator(\"1\", \"Normal\")\n",
    "                    Kilos[0] = 7\n",
    "                    Calculator(\"2\", \"Normal\")\n",
    "                    Kilos[1] = 7\n",
    "                    Calculator(\"3\", \"Upgraded\")\n",
    "                    Kilos[1] = Total_Kilos - 14\n",
    "                else:\n",
    "                    Calculator(\"1\", \"Normal\")\n",
    "                    Kilos[0] = 7\n",
    "                    Calculator(\"2\", \"Upgraded\")\n",
    "                    Kilos[1] = 11\n",
    "                    Calculator(\"3\", \"Upgraded\")\n",
    "                    Kilos[1] = Total_Kilos - 18\n",
    "                \n",
    "        global Machine_End_Temp\n",
    "        global Employee_End_Temp\n",
    "        global Kilos\n",
    "        Machine_End_Temp = {\"2\":[0,0,0],\"6\":[0,0,0],\"7\":[0,0,0],\"8\":[0,0,0]}\n",
    "        Employee_End_Temp = {\"1\":0, \"3\":0, \"4\":0, \"5\":0}\n",
    "        Kilos = [0,0,0]\n",
    "        \n",
    "        #2. #Check for available washers and employee -> Assign clothes to washer\n",
    "        Machine_Checker(row['1_Employee_End'], '2', \"Washer\", row['Kilos'])\n",
    "        #Check for employee availability -> Assign Mins_Backet_Transfer\n",
    "        Employee_Checker(Machine_End_Temp[\"2\"][0], \"3\", Mins_Backet_Transfer)\n",
    "        Employee_Checker(Machine_End_Temp[\"2\"][1], \"4\", Mins_Backet_Transfer)\n",
    "        Employee_Checker(Machine_End_Temp[\"2\"][2], \"5\", Mins_Backet_Transfer)\n",
    "        #Check for available dryers -> Assign clothes to dryers\n",
    "        Machine_Checker(Employee_End_Temp['3'], '6', \"Dryer\", Kilos[0])\n",
    "        Machine_Checker(Employee_End_Temp['4'], '7', \"Dryer\", Kilos[1])\n",
    "        Machine_Checker(Employee_End_Temp['5'], '8', \"Dryer\", Kilos[2])\n",
    "        #Check for employee availability -> Assign Mins_Backet_Transfer, Fold, Pack\n",
    "        Employee_Checker(Machine_End_Temp[\"6\"][0], \"9\", Mins_Backet_Transfer + Mins_Fold + Mins_Pack)\n",
    "        Employee_Checker(Machine_End_Temp[\"6\"][1], \"10\", Mins_Backet_Transfer + Mins_Fold + Mins_Pack)\n",
    "        Employee_Checker(Machine_End_Temp[\"6\"][2], \"11\", Mins_Backet_Transfer + Mins_Fold + Mins_Pack)\n",
    "        Employee_Checker(Machine_End_Temp[\"7\"][0], \"9\", Mins_Backet_Transfer + Mins_Fold + Mins_Pack)\n",
    "        Employee_Checker(Machine_End_Temp[\"7\"][1], \"10\", Mins_Backet_Transfer + Mins_Fold + Mins_Pack)\n",
    "        Employee_Checker(Machine_End_Temp[\"7\"][2], \"11\", Mins_Backet_Transfer + Mins_Fold + Mins_Pack)\n",
    "        Employee_Checker(Machine_End_Temp[\"8\"][0], \"9\", Mins_Backet_Transfer + Mins_Fold + Mins_Pack)\n",
    "        Employee_Checker(Machine_End_Temp[\"8\"][1], \"10\", Mins_Backet_Transfer + Mins_Fold + Mins_Pack)\n",
    "        Employee_Checker(Machine_End_Temp[\"8\"][2], \"11\", Mins_Backet_Transfer + Mins_Fold + Mins_Pack)\n"
   ]
  },
  {
   "cell_type": "code",
   "execution_count": 5,
   "id": "08b58a28",
   "metadata": {},
   "outputs": [
    {
     "data": {
      "text/plain": [
       "{'HE LLO': 'XD'}"
      ]
     },
     "execution_count": 5,
     "metadata": {},
     "output_type": "execute_result"
    }
   ],
   "source": [
    "Profit_Table = {}\n",
    "\n",
    "Profit_Table[\"HE LLO\"] = \"XD\"\n",
    "\n",
    "Profit_Table"
   ]
  }
 ],
 "metadata": {
  "kernelspec": {
   "display_name": "Python 3 (ipykernel)",
   "language": "python",
   "name": "python3"
  },
  "language_info": {
   "codemirror_mode": {
    "name": "ipython",
    "version": 3
   },
   "file_extension": ".py",
   "mimetype": "text/x-python",
   "name": "python",
   "nbconvert_exporter": "python",
   "pygments_lexer": "ipython3",
   "version": "3.11.5"
  }
 },
 "nbformat": 4,
 "nbformat_minor": 5
}
